{
 "cells": [
  {
   "cell_type": "markdown",
   "metadata": {},
   "source": [
    "<img src=\"https://bit.ly/2VnXWr2\" width=\"100\" align=\"left\">"
   ]
  },
  {
   "cell_type": "markdown",
   "metadata": {},
   "source": [
    "# Rock, Paper & Scissors\n",
    "\n",
    "Let's play the famous game against our computer. You can check the rules [here](https://en.wikipedia.org/wiki/Rock%E2%80%93paper%E2%80%93scissors). \n",
    "\n",
    "## Task\n",
    "Create a program that imitates the playability of the well known game of rock, paper, scissors. Follow the guidelines provided.\n",
    "\n",
    "## Tools\n",
    "1. Loop: **for/while**\n",
    "2. Functions: **input(), print()...**\n",
    "3. Conditional statements: **if, elif, else**\n",
    "4. Definition of functions. Modular programming\n",
    "5. Import modules\n",
    "\n",
    "**To solve this challenge, the use of functions is recommended.**\n",
    "\n",
    "#### 1. Import the choice function of the random module."
   ]
  },
  {
   "cell_type": "code",
   "execution_count": 1,
   "metadata": {},
   "outputs": [],
   "source": [
    "import random"
   ]
  },
  {
   "cell_type": "markdown",
   "metadata": {},
   "source": [
    "#### 2. Create a list that includes the 3 possible gesture options of the game: 'rock', 'paper' or 'scissors'. Store the list in a variable called `gestures`."
   ]
  },
  {
   "cell_type": "code",
   "execution_count": 2,
   "metadata": {},
   "outputs": [],
   "source": [
    "gestures= ['rock', 'paper','scissors']"
   ]
  },
  {
   "cell_type": "markdown",
   "metadata": {},
   "source": [
    "#### 3. Create a variable called `n_rounds` to store the maximum number of rounds to play in a game. \n",
    "Remember that the number of rounds must be odd: 1, 3, 5, ..."
   ]
  },
  {
   "cell_type": "code",
   "execution_count": 3,
   "metadata": {},
   "outputs": [],
   "source": [
    "n_rounds=5"
   ]
  },
  {
   "cell_type": "markdown",
   "metadata": {},
   "source": [
    "#### 4. Create a variable called `rounds_to_win` to store the number of rounds that a player must win to win the game.\n",
    "**Hint**: the value stored in `rounds_to_win` depends on the value of `n_rounds`. "
   ]
  },
  {
   "cell_type": "code",
   "execution_count": 6,
   "metadata": {},
   "outputs": [
    {
     "data": {
      "text/plain": [
       "3"
      ]
     },
     "execution_count": 6,
     "metadata": {},
     "output_type": "execute_result"
    }
   ],
   "source": [
    "import math\n",
    "import numpy as np\n",
    "rounds_to_win= math.ceil(n_rounds/2)\n",
    "rounds_to_win"
   ]
  },
  {
   "cell_type": "markdown",
   "metadata": {},
   "source": [
    "#### 5. Create two variables to store the number of rounds that the computer and the player have won. Call these variables `cpu_score` and `player_score`."
   ]
  },
  {
   "cell_type": "code",
   "execution_count": 7,
   "metadata": {},
   "outputs": [],
   "source": [
    "cpu_score=[]\n",
    "player_score=[]"
   ]
  },
  {
   "cell_type": "markdown",
   "metadata": {},
   "source": [
    "#### 6. Define a function that randomly returns one of the 3 gesture options.\n",
    "You will use this function to simulate the gesture choice of the computer. "
   ]
  },
  {
   "cell_type": "code",
   "execution_count": 8,
   "metadata": {},
   "outputs": [],
   "source": [
    "def game(*turno):\n",
    "        cpu_score=[]\n",
    "        player_score=[]\n",
    "        gestures= [ 'rock', 'paper','scissors']\n",
    "        turno= [input('su movida es: '),input('su movida es: '),input('su movida es: ')]\n",
    "        print('En tu turno tu movida es: {}'. format(turno))\n",
    "        turnocpu= [random.choice(gestures),random.choice(gestures),random.choice(gestures)]\n",
    "        print('La movida del cpu es: {}'. format(turnocpu))\n",
    "     \n",
    "        for i in range(len(turno)):\n",
    "            if turno[i]== 'rock' and turnocpu[i]== 'paper':\n",
    "                cpu_score.append('win')\n",
    "                player_score.append('lose')\n",
    "            elif turno[i]== 'rock' and turnocpu[i]== 'scissors':\n",
    "                player_score.append('win')\n",
    "                cpu_score.append('lose')\n",
    "            elif turno[i]== 'rock' and turnocpu[i]== 'rock':\n",
    "                player_score.append('tie')\n",
    "                cpu_score.append('tie')\n",
    "            elif turno[i]== 'paper' and turnocpu[i]== 'rock':\n",
    "                player_score.append('win')\n",
    "                cpu_score.append('lose')\n",
    "            elif turno[i]== 'paper' and turnocpu[i]== 'paper':\n",
    "                player_score.append('tie')\n",
    "                cpu_score.append('tie')\n",
    "            elif turno[i]== 'paper' and turnocpu[i]== 'scissors':\n",
    "                player_score.append('lose')\n",
    "                cpu_score.append('win')\n",
    "            elif turno[i]== 'scissors' and turnocpu[i]== 'rock':\n",
    "                player_score.append('lose')\n",
    "                cpu_score.append('win')\n",
    "            elif turno[i]== 'scissors' and turnocpu[i]== 'paper':\n",
    "                player_score.append('win')\n",
    "                cpu_score.append('lose')\n",
    "            elif turno[i]== 'scissors' and turnocpu[i]== 'scissors':\n",
    "                player_score.append('tie')\n",
    "                cpu_score.append('tie')\n",
    "            print('You {}  '.format(player_score))\n",
    "            print('The machine {} '. format(cpu_score))"
   ]
  },
  {
   "cell_type": "code",
   "execution_count": 9,
   "metadata": {},
   "outputs": [
    {
     "name": "stdout",
     "output_type": "stream",
     "text": [
      "su movida es: rock\n",
      "su movida es: rock\n",
      "su movida es: rock\n",
      "En tu turno tu movida es: ['rock', 'rock', 'rock']\n",
      "La movida del cpu es: ['paper', 'scissors', 'paper']\n",
      "You ['lose']  \n",
      "The machine ['win'] \n",
      "You ['lose', 'win']  \n",
      "The machine ['win', 'lose'] \n",
      "You ['lose', 'win', 'lose']  \n",
      "The machine ['win', 'lose', 'win'] \n"
     ]
    }
   ],
   "source": [
    "game()"
   ]
  },
  {
   "cell_type": "markdown",
   "metadata": {},
   "source": [
    "#### 7. Define a function that asks the player which is the gesture he or she wants to show: 'rock', 'paper' or 'scissors'.\n",
    "The player should only be allowed to choose one of the 3 gesture options. If the player's choice is not rock, paper or scissors, keep asking until it is."
   ]
  },
  {
   "cell_type": "code",
   "execution_count": 59,
   "metadata": {},
   "outputs": [
    {
     "name": "stdout",
     "output_type": "stream",
     "text": [
      "tus opciones son rock, paper, scissors\n",
      "Dime tu movida: rock\n"
     ]
    }
   ],
   "source": [
    "def gesture():\n",
    "    gestures=0\n",
    "    gest= input('Dime tu movida: ')\n",
    "    gestures= gest\n",
    "if gestures!= 'rock':\n",
    "    print('tus opciones son rock, paper, scissors')\n",
    "    gest= input('Dime tu movida: ')\n",
    "elif gestures!= 'paper':\n",
    "    print('tus opciones son rock, paper, scissors')\n",
    "    gest= input('Dime tu movida: ')\n",
    "elif gestures!= 'scissors' :\n",
    "    print('tus opciones son rock, paper, scissors')\n",
    "    gest= input('Dime tu movida: ')"
   ]
  },
  {
   "cell_type": "code",
   "execution_count": 60,
   "metadata": {},
   "outputs": [
    {
     "name": "stdout",
     "output_type": "stream",
     "text": [
      "Dime tu movida: rock\n"
     ]
    }
   ],
   "source": [
    "gesture()"
   ]
  },
  {
   "cell_type": "markdown",
   "metadata": {},
   "source": [
    "#### 8. Define a function that checks who won a round. \n",
    "The function should return 0 if there is a tie, 1 if the computer wins and 2 if the player wins."
   ]
  },
  {
   "cell_type": "code",
   "execution_count": 55,
   "metadata": {},
   "outputs": [],
   "source": [
    "def game2(*turno):\n",
    "        score=[]\n",
    "        gestures= [ 'rock', 'paper','scissors']\n",
    "        turno= [input('su movida es: '),input('su movida es: '),input('su movida es: ')]\n",
    "        print('En tu turno tu movida es: {}'. format(turno))\n",
    "        turnocpu= [random.choice(gestures),random.choice(gestures),random.choice(gestures)]\n",
    "        print('La movida del cpu es: {}'. format(turnocpu))\n",
    "     \n",
    "        for i in range(len(turno)):\n",
    "            if turno[i]== 'rock' and turnocpu[i]== 'paper':\n",
    "                score.append('1')\n",
    "            elif turno[i]== 'rock' and turnocpu[i]== 'scissors':\n",
    "                score.append('2') \n",
    "            elif turno[i]== 'rock' and turnocpu[i]== 'rock':\n",
    "                score.append('0')\n",
    "            elif turno[i]== 'paper' and turnocpu[i]== 'rock':\n",
    "                score.append('2')\n",
    "            elif turno[i]== 'paper' and turnocpu[i]== 'paper':\n",
    "                score.append('0') \n",
    "            elif turno[i]== 'paper' and turnocpu[i]== 'scissors':\n",
    "                score.append('1')\n",
    "            elif turno[i]== 'scissors' and turnocpu[i]== 'rock':\n",
    "                score.append('1')\n",
    "            elif turno[i]== 'scissors' and turnocpu[i]== 'paper':\n",
    "                score.append('2')\n",
    "            elif turno[i]== 'scissors' and turnocpu[i]== 'scissors':\n",
    "                score.append('0')\n",
    "        print('El score final es ', score)"
   ]
  },
  {
   "cell_type": "code",
   "execution_count": 56,
   "metadata": {},
   "outputs": [
    {
     "name": "stdout",
     "output_type": "stream",
     "text": [
      "su movida es: rock\n",
      "su movida es: rock\n",
      "su movida es: rock\n",
      "En tu turno tu movida es: ['rock', 'rock', 'rock']\n",
      "La movida del cpu es: ['scissors', 'paper', 'rock']\n",
      "El score final es  ['2', '1', '0']\n"
     ]
    }
   ],
   "source": [
    "game2()"
   ]
  },
  {
   "cell_type": "markdown",
   "metadata": {},
   "source": [
    "#### 9. Define a function that prints the choice of the computer, the choice of the player and a message that announces who won the current round. \n",
    "You should also use this function to update the variables that count the number of rounds that the computer and the player have won. The score of the winner increases by one point. If there is a tie, the score does not increase."
   ]
  },
  {
   "cell_type": "code",
   "execution_count": 61,
   "metadata": {},
   "outputs": [],
   "source": [
    "def game2(*turno):\n",
    "        score=[]\n",
    "        gestures= [ 'rock', 'paper','scissors']\n",
    "        turno= [input('su movida es: '),input('su movida es: '),input('su movida es: ')]\n",
    "        print('En tu turno tu movida es: {}'. format(turno))\n",
    "        turnocpu= [random.choice(gestures),random.choice(gestures),random.choice(gestures)]\n",
    "        print('La movida del cpu es: {}'. format(turnocpu))\n",
    "     \n",
    "        for i in range(len(turno)):\n",
    "            if turno[i]== 'rock' and turnocpu[i]== 'paper':\n",
    "                score.append('1')\n",
    "            elif turno[i]== 'rock' and turnocpu[i]== 'scissors':\n",
    "                score.append('2') \n",
    "            elif turno[i]== 'rock' and turnocpu[i]== 'rock':\n",
    "                score.append('0')\n",
    "            elif turno[i]== 'paper' and turnocpu[i]== 'rock':\n",
    "                score.append('2')\n",
    "            elif turno[i]== 'paper' and turnocpu[i]== 'paper':\n",
    "                score.append('0') \n",
    "            elif turno[i]== 'paper' and turnocpu[i]== 'scissors':\n",
    "                score.append('1')\n",
    "            elif turno[i]== 'scissors' and turnocpu[i]== 'rock':\n",
    "                score.append('1')\n",
    "            elif turno[i]== 'scissors' and turnocpu[i]== 'paper':\n",
    "                score.append('2')\n",
    "            elif turno[i]== 'scissors' and turnocpu[i]== 'scissors':\n",
    "                score.append('0')\n",
    "        print('El score final es ', score)"
   ]
  },
  {
   "cell_type": "markdown",
   "metadata": {},
   "source": [
    "#### 10. Now it's time to code the execution of the game using the functions and variables you defined above. \n",
    "\n",
    "First, create a loop structure that repeats while no player reaches the minimum score necessary to win and the number of rounds is less than the maximum number of rounds to play in a game.  \n",
    "\n",
    "Inside the loop, use the functions and variables above to create the execution of a round: ask for the player's choice, generate the random choice of the computer, show the round results, update the scores, etc. "
   ]
  },
  {
   "cell_type": "code",
   "execution_count": 69,
   "metadata": {},
   "outputs": [],
   "source": [
    "def game3(*turno):\n",
    "        score=[]\n",
    "        gestures= [ 'rock', 'paper','scissors']\n",
    "        turno= [input('su movida es: '),input('su movida es: '),input('su movida es: ')]\n",
    "        print('En tu turno tu movida es: {}'. format(turno))\n",
    "        turnocpu= [random.choice(gestures),random.choice(gestures),random.choice(gestures)]\n",
    "        print('La movida del cpu es: {}'. format(turnocpu))\n",
    "     \n",
    "        for i in range(len(turno)):\n",
    "            if turno[i]== 'rock' and turnocpu[i]== 'paper':\n",
    "                score.append('1')\n",
    "            elif turno[i]== 'rock' and turnocpu[i]== 'scissors':\n",
    "                score.append('2') \n",
    "            elif turno[i]== 'rock' and turnocpu[i]== 'rock':\n",
    "                score.append('0')\n",
    "            elif turno[i]== 'paper' and turnocpu[i]== 'rock':\n",
    "                score.append('2')\n",
    "            elif turno[i]== 'paper' and turnocpu[i]== 'paper':\n",
    "                score.append('0') \n",
    "            elif turno[i]== 'paper' and turnocpu[i]== 'scissors':\n",
    "                score.append('1')\n",
    "            elif turno[i]== 'scissors' and turnocpu[i]== 'rock':\n",
    "                score.append('1')\n",
    "            elif turno[i]== 'scissors' and turnocpu[i]== 'paper':\n",
    "                score.append('2')\n",
    "            elif turno[i]== 'scissors' and turnocpu[i]== 'scissors':\n",
    "                score.append('0')\n",
    "        print('El score final es ', score)\n",
    "        \n",
    "        plawins=0\n",
    "        cpuwins=0\n",
    "        for i in range(len(score)):\n",
    "            if  score[i]== '1':\n",
    "                cpuwins= cpuwins+1\n",
    "            elif score[i]== '2':\n",
    "                plawins= plawins +1\n",
    "                       \n",
    "        print(cpuwins)\n",
    "        print(plawins) "
   ]
  },
  {
   "cell_type": "code",
   "execution_count": 70,
   "metadata": {},
   "outputs": [
    {
     "name": "stdout",
     "output_type": "stream",
     "text": [
      "su movida es: rock\n",
      "su movida es: rock\n",
      "su movida es: rock\n",
      "En tu turno tu movida es: ['rock', 'rock', 'rock']\n",
      "La movida del cpu es: ['paper', 'rock', 'scissors']\n",
      "El score final es  ['1', '0', '2']\n",
      "1\n",
      "1\n"
     ]
    }
   ],
   "source": [
    "game3()"
   ]
  },
  {
   "cell_type": "markdown",
   "metadata": {},
   "source": [
    "#### 11. Print the winner of the game based on who won more rounds.\n",
    "Remember that the game might be tied. "
   ]
  },
  {
   "cell_type": "code",
   "execution_count": 81,
   "metadata": {},
   "outputs": [],
   "source": [
    "def game4(*turno):\n",
    "        score=[]\n",
    "        gestures= [ 'rock', 'paper','scissors']\n",
    "        turno= [input('su movida es: '),input('su movida es: '),input('su movida es: ')]\n",
    "        print('En tu turno tu movida es: {}'. format(turno))\n",
    "        turnocpu= [random.choice(gestures),random.choice(gestures),random.choice(gestures)]\n",
    "        print('La movida del cpu es: {}'. format(turnocpu))\n",
    "     \n",
    "        for i in range(len(turno)):\n",
    "            if turno[i]== 'rock' and turnocpu[i]== 'paper':\n",
    "                score.append('1')\n",
    "            elif turno[i]== 'rock' and turnocpu[i]== 'scissors':\n",
    "                score.append('2') \n",
    "            elif turno[i]== 'rock' and turnocpu[i]== 'rock':\n",
    "                score.append('0')\n",
    "            elif turno[i]== 'paper' and turnocpu[i]== 'rock':\n",
    "                score.append('2')\n",
    "            elif turno[i]== 'paper' and turnocpu[i]== 'paper':\n",
    "                score.append('0') \n",
    "            elif turno[i]== 'paper' and turnocpu[i]== 'scissors':\n",
    "                score.append('1')\n",
    "            elif turno[i]== 'scissors' and turnocpu[i]== 'rock':\n",
    "                score.append('1')\n",
    "            elif turno[i]== 'scissors' and turnocpu[i]== 'paper':\n",
    "                score.append('2')\n",
    "            elif turno[i]== 'scissors' and turnocpu[i]== 'scissors':\n",
    "                score.append('0')\n",
    "        print('El score final es ', score)\n",
    "        \n",
    "        plawins=0\n",
    "        cpuwins=0\n",
    "        for i in range(len(score)):\n",
    "            if  score[i]== '1':\n",
    "                cpuwins= cpuwins+1\n",
    "            elif score[i]== '2':\n",
    "                plawins= plawins +1\n",
    "         \n",
    "        \n",
    "        if plawins> cpuwins:\n",
    "            print('YOU ARE THE WINNER!!!')\n",
    "        elif plawins< cpuwins:\n",
    "            print('Better luck next time')\n",
    "        elif plawins==cpuwins:\n",
    "            print('Its a tie')\n",
    "        "
   ]
  },
  {
   "cell_type": "code",
   "execution_count": 83,
   "metadata": {},
   "outputs": [
    {
     "name": "stdout",
     "output_type": "stream",
     "text": [
      "su movida es: rock\n",
      "su movida es: rock\n",
      "su movida es: rock\n",
      "En tu turno tu movida es: ['rock', 'rock', 'rock']\n",
      "La movida del cpu es: ['paper', 'rock', 'paper']\n",
      "El score final es  ['1', '0', '1']\n",
      "Better luck next time\n"
     ]
    }
   ],
   "source": [
    "game4()"
   ]
  },
  {
   "cell_type": "markdown",
   "metadata": {},
   "source": [
    "# Bonus: Rock, Paper, Scissors, Lizard & Spock\n",
    "![](images/rpsls.jpg)\n",
    "\n",
    "In this challenge, you need to improve the previous game by adding two new options. To know more about the rules of the improved version of rock, paper, scissors, check this [link](http://www.samkass.com/theories/RPSSL.html). \n",
    "\n",
    "In addition, you will also need to improve how the game interacts with the player: the number of rounds to play, which must be an odd number, will be requested to the user until a valid number is entered. Define a new function to make that request.\n",
    "\n",
    "**Hint**: Try to reuse the code that you already coded in the previous challenge. If your code is efficient, this bonus will only consist of simple modifications to the original game."
   ]
  },
  {
   "cell_type": "code",
   "execution_count": null,
   "metadata": {},
   "outputs": [],
   "source": []
  }
 ],
 "metadata": {
  "kernelspec": {
   "display_name": "Python 3",
   "language": "python",
   "name": "python3"
  },
  "language_info": {
   "codemirror_mode": {
    "name": "ipython",
    "version": 3
   },
   "file_extension": ".py",
   "mimetype": "text/x-python",
   "name": "python",
   "nbconvert_exporter": "python",
   "pygments_lexer": "ipython3",
   "version": "3.7.4"
  }
 },
 "nbformat": 4,
 "nbformat_minor": 2
}
