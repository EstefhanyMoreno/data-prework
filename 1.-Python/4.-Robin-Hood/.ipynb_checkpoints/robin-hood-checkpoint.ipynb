{
 "cells": [
  {
   "cell_type": "markdown",
   "metadata": {},
   "source": [
    "<img src=\"https://bit.ly/2VnXWr2\" width=\"100\" align=\"left\"/>"
   ]
  },
  {
   "cell_type": "markdown",
   "metadata": {},
   "source": [
    "# Robin Hood\n",
    "Robin Hood has entered a competition to win the archery contest in Sherwood. With his bow and arrows, he needs to shoot on a target and try to hit as close as possible to the center.\n",
    "\n",
    "![](images/arrows.jpg)\n",
    "\n",
    "## Context\n",
    "In this challenge, the landing position of arrows shot by archers in the competition will be represented using 2-dimensional coordinates. \n",
    "\n",
    "In the 2-dimensional space, a point can be defined by a pair of values that correspond to the horizontal coordinate (x) and the vertical coordinate (y). For example, in our case, an arrow that hits the center of the archery target will land in position (0, 0) on the coordinate axes. \n",
    "\n",
    "The space can be divided into 4 zones (quadrants): Q1, Q2, Q3, Q4. If a point is in Q1, both its x coordinate and y coordinate are positive. Any point with a null x or y coordinate is considered to not belong to any quadrant. \n",
    "\n",
    "If you want to know more about the cartesian coordinate system, you can check this [link](https://en.wikipedia.org/wiki/Cartesian_coordinate_system). \n",
    "\n",
    "## Tools\n",
    "You don't necessarily need to use all the tools. Maybe you opt to use some of them or completely different ones, they are given to help you shape the exercise. Programming exercises can be solved in many different ways.\n",
    "* Data structures: **lists, sets, tuples**\n",
    "* Conditional statements: **if-elif-else**\n",
    "* Loop: **while/for**\n",
    "* Minimum (optional sorting)\n",
    "\n",
    "## Tasks\n",
    "Robin Hood has hit the following points:"
   ]
  },
  {
   "cell_type": "code",
   "execution_count": 1,
   "metadata": {},
   "outputs": [],
   "source": [
    "points = [(4, 5), (-0, 2), (4, 7), (1, -3), (3, -2), (4, 5), (3, 2), (5, 7), (-5, 7), (2, 2), (-4, 5), (0, -2),\n",
    "          (-4, 7), (-1, 3), (-3, 2), (-4, -5), (-3, 2), (5, 7), (5, 7), (2, 2), (9, 9), (-8, -9)]"
   ]
  },
  {
   "cell_type": "markdown",
   "metadata": {},
   "source": [
    "#### 1. Robin Hood is famous for hitting an arrow with another arrow. Find the coordinates of the points where an arrow hits another arrow."
   ]
  },
  {
   "cell_type": "code",
   "execution_count": 2,
   "metadata": {},
   "outputs": [
    {
     "name": "stdout",
     "output_type": "stream",
     "text": [
      "[(4, 5), (-3, 2), (5, 7), (2, 2)]\n"
     ]
    }
   ],
   "source": [
    "repetido=[]\n",
    "unico=[]\n",
    "\n",
    "for i in points:\n",
    "    if i not in unico:\n",
    "        unico.append(i)\n",
    "    else:\n",
    "        if i not in repetido:\n",
    "            repetido.append(i)\n",
    "            \n",
    "print(repetido)"
   ]
  },
  {
   "cell_type": "markdown",
   "metadata": {},
   "source": [
    "#### 2. Calculate how many arrows have fallen in each quadrant. \n",
    "**Note**: the arrows that fall in the axis (x=0 or y=0) don't belong to any quadrant."
   ]
  },
  {
   "cell_type": "code",
   "execution_count": 3,
   "metadata": {},
   "outputs": [
    {
     "name": "stdout",
     "output_type": "stream",
     "text": [
      "El el primer cuadrante cayeron 12 flechas, en el segundo 6, en el tercero 2 y en el cuarto 0\n"
     ]
    }
   ],
   "source": [
    "Q1=[]\n",
    "Q2=[]\n",
    "Q3=[]\n",
    "Q4=[]\n",
    "\n",
    "for i in range(len(points)):\n",
    "        if points[i][0]> 0 and points[i][1]>0:\n",
    "            Q1.append(points[i])\n",
    "        elif points[i][0]<0 and points[i][1]>0:\n",
    "            Q2.append(points[i])\n",
    "        elif points[i][0]< 0 and points[i][1]<0:\n",
    "            Q3.append(points[i])\n",
    "        elif points[i][0]> 0 and points[i][1]<0:\n",
    "            Q1.append(points[i])\n",
    "\n",
    "print('El el primer cuadrante cayeron {} flechas, en el segundo {}, en el tercero {} y en el cuarto {}'. format(len(Q1),len(Q2),len(Q3),len(Q4) ) )\n"
   ]
  },
  {
   "cell_type": "markdown",
   "metadata": {},
   "source": [
    "#### 3. Find the point closest to the center. Calculate its distance to the center. \n",
    "Take into account that there might be more than one point at the minimum distance to the center.\n",
    "\n",
    "**Hint**: Use the Euclidean distance. You can find more information about it [here](https://en.wikipedia.org/wiki/Euclidean_distance).  \n",
    "**Hint**: Defining a function that calculates the distance to the center can help."
   ]
  },
  {
   "cell_type": "code",
   "execution_count": 4,
   "metadata": {},
   "outputs": [],
   "source": [
    "import math"
   ]
  },
  {
   "cell_type": "code",
   "execution_count": 6,
   "metadata": {},
   "outputs": [],
   "source": [
    "def dist_to_center(points):\n",
    "    dist=[]\n",
    "    for i in range(len(points)):\n",
    "        df= round(math.sqrt(pow(points[i][0],2)+ pow(points[i][1],2)),2)\n",
    "        dist.append(df)\n",
    "    print(dist)"
   ]
  },
  {
   "cell_type": "code",
   "execution_count": 7,
   "metadata": {},
   "outputs": [
    {
     "name": "stdout",
     "output_type": "stream",
     "text": [
      "[6.4, 2.0, 8.06, 3.16, 3.61, 6.4, 3.61, 8.6, 8.6, 2.83, 6.4, 2.0, 8.06, 3.16, 3.61, 6.4, 3.61, 8.6, 8.6, 2.83, 12.73, 12.04]\n"
     ]
    }
   ],
   "source": [
    "dist_to_center(points)"
   ]
  },
  {
   "cell_type": "code",
   "execution_count": 8,
   "metadata": {},
   "outputs": [
    {
     "name": "stdout",
     "output_type": "stream",
     "text": [
      "[]\n",
      "[]\n",
      "[(0, 2)]\n"
     ]
    }
   ],
   "source": [
    "bm= [6.4, 2.0, 8.06, 3.16, 3.61, 6.4, 3.61, 8.6, 8.6, 2.83, 6.4, 2.0, 8.06, 3.16, 3.61, 6.4, 3.61, 8.6, 8.6, 2.83, 12.73, 12.04]\n",
    "aaa=[] #mejores tiros\n",
    "aa=[] #segundos mejores tiros\n",
    "a=[] #terceros mejores tiros\n",
    "\n",
    "for i in range(1,3):\n",
    "    if bm[i]<1:\n",
    "        aaa.append(points[i])\n",
    "    elif bm[i]<2:\n",
    "        aa.append(points[i])\n",
    "    elif bm[i]<3:\n",
    "        a.append(points[i])\n",
    "\n",
    "print(aaa)\n",
    "print(aa)\n",
    "print(a)"
   ]
  },
  {
   "cell_type": "markdown",
   "metadata": {},
   "source": [
    "#### 4. If the archery target has a radius of 9, calculate the number of arrows that won't hit the target. \n",
    "**Hint**: Use the function created in step 3. "
   ]
  },
  {
   "cell_type": "code",
   "execution_count": 9,
   "metadata": {},
   "outputs": [],
   "source": [
    "def arch_targ(points):\n",
    "    fuera=[]\n",
    "    for i in range(len(points)):\n",
    "        if points[i][0]>9 or points[i][1]>9 or points[i][0]<-9 or points[i][1]<-9:\n",
    "            fuera.append(points[i])\n",
    "    print(fuera)"
   ]
  },
  {
   "cell_type": "code",
   "execution_count": 10,
   "metadata": {},
   "outputs": [
    {
     "name": "stdout",
     "output_type": "stream",
     "text": [
      "[]\n"
     ]
    }
   ],
   "source": [
    "arch_targ(points) #No hay puntos fuera del target"
   ]
  }
 ],
 "metadata": {
  "kernelspec": {
   "display_name": "Python 3",
   "language": "python",
   "name": "python3"
  },
  "language_info": {
   "codemirror_mode": {
    "name": "ipython",
    "version": 3
   },
   "file_extension": ".py",
   "mimetype": "text/x-python",
   "name": "python",
   "nbconvert_exporter": "python",
   "pygments_lexer": "ipython3",
   "version": "3.7.4"
  }
 },
 "nbformat": 4,
 "nbformat_minor": 2
}
